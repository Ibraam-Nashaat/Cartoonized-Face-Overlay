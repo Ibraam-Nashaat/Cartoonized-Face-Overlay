{
 "cells": [
  {
   "cell_type": "code",
   "execution_count": 1,
   "metadata": {},
   "outputs": [],
   "source": [
    "import cv2\n",
    "from skimage import io\n",
    "import os\n",
    "import matplotlib.pyplot as plt\n",
    "import numpy as np\n",
    "import pandas as pd\n",
    "import seaborn as sns\n",
    "import math\n",
    "import sys\n",
    "import pickle\n",
    "import random\n",
    "from haar_like_features import *\n",
    "from utils import *\n",
    "%matplotlib inline\n",
    "%load_ext autoreload\n",
    "%autoreload 2"
   ]
  },
  {
   "cell_type": "code",
   "execution_count": 2,
   "metadata": {},
   "outputs": [],
   "source": [
    "haar = HaarLikeFeatures()\n",
    "utils = Utils()\n",
    "train_faces = utils.load_pickle('./dataset/pkls/train/faces.pkl')\n",
    "test_faces = utils.load_pickle('./dataset/pkls/test/faces.pkl')\n",
    "train_non_faces = utils.load_pickle('./dataset/pkls/train/non_faces.pkl')\n",
    "test_non_faces = utils.load_pickle('./dataset/pkls/test/non_faces.pkl')"
   ]
  },
  {
   "cell_type": "code",
   "execution_count": null,
   "metadata": {},
   "outputs": [],
   "source": []
  },
  {
   "cell_type": "code",
   "execution_count": 4,
   "metadata": {},
   "outputs": [
    {
     "name": "stdout",
     "output_type": "stream",
     "text": [
      "n_train_faces:  2429\n",
      "n_train_non_faces:  4548\n",
      "n_test_faces:  472\n",
      "n_test_non_faces:  23573\n",
      "total train set:  6977\n",
      "total test set:  24045\n",
      "Image width:  19\n",
      "Image height:  19\n",
      "Number of features per image:  6066\n"
     ]
    }
   ],
   "source": [
    "n_train_faces = train_faces.shape[0]\n",
    "n_train_non_faces = train_non_faces.shape[0]\n",
    "n_test_faces = test_faces.shape[0]\n",
    "n_test_non_faces = test_non_faces.shape[0]\n",
    "\n",
    "n_train = n_train_faces + n_train_non_faces\n",
    "n_test = n_test_faces + n_test_non_faces\n",
    "print('n_train_faces: ', n_train_faces)\n",
    "print('n_train_non_faces: ', n_train_non_faces)\n",
    "print('n_test_faces: ', n_test_faces)\n",
    "print('n_test_non_faces: ', n_test_non_faces)\n",
    "print('total train set: ', n_train)\n",
    "print('total test set: ', n_test)\n",
    "\n",
    "image_width = train_faces.shape[1]\n",
    "image_height = train_faces.shape[2]   \n",
    "num_features_per_img = 6066\n",
    "print('Image width: ', image_width)\n",
    "print('Image height: ', image_height)\n",
    "print('Number of features per image: ', num_features_per_img)"
   ]
  },
  {
   "cell_type": "code",
   "execution_count": null,
   "metadata": {},
   "outputs": [],
   "source": []
  },
  {
   "cell_type": "code",
   "execution_count": 7,
   "metadata": {},
   "outputs": [
    {
     "name": "stdout",
     "output_type": "stream",
     "text": [
      "Start parallel processing\n",
      "Parallel processing finished in 11.816620349884033 seconds\n"
     ]
    }
   ],
   "source": [
    "test_faces_features = utils.apply_func_parallel_nump_array(haar.extract_features, test_faces, 8, 0, 0, image_width, image_height)"
   ]
  },
  {
   "cell_type": "code",
   "execution_count": 8,
   "metadata": {},
   "outputs": [
    {
     "name": "stdout",
     "output_type": "stream",
     "text": [
      "Start parallel processing\n",
      "Parallel processing finished in 101.91657018661499 seconds\n",
      "Start parallel processing\n",
      "Parallel processing finished in 180.03533506393433 seconds\n"
     ]
    }
   ],
   "source": [
    "train_faces_features = utils.apply_func_parallel_nump_array(haar.extract_features, train_faces, 8, 0, 0, image_width, image_height)\n",
    "train_non_faces_features = utils.apply_func_parallel_nump_array(haar.extract_features, train_non_faces, 8, 0, 0, image_width, image_height)"
   ]
  },
  {
   "cell_type": "code",
   "execution_count": 9,
   "metadata": {},
   "outputs": [
    {
     "name": "stdout",
     "output_type": "stream",
     "text": [
      "Start parallel processing\n",
      "Parallel processing finished in 748.8589038848877 seconds\n"
     ]
    }
   ],
   "source": [
    "test_non_faces_features = utils.apply_func_parallel_nump_array(haar.extract_features, test_non_faces, 8, 0, 0, image_width, image_height)"
   ]
  },
  {
   "cell_type": "code",
   "execution_count": 16,
   "metadata": {},
   "outputs": [
    {
     "name": "stdout",
     "output_type": "stream",
     "text": [
      "472\n",
      "2429\n",
      "4548\n",
      "23573\n"
     ]
    }
   ],
   "source": [
    "print(test_faces_features.shape[0])\n",
    "print(train_faces_features.shape[0])\n",
    "print(train_non_faces_features.shape[0])\n",
    "print(test_non_faces_features.shape[0])"
   ]
  },
  {
   "cell_type": "code",
   "execution_count": 17,
   "metadata": {},
   "outputs": [],
   "source": [
    "utils.save_pickle(test_faces_features, './dataset/pkls/test/faces_features.pkl')\n",
    "utils.save_pickle(test_non_faces_features, './dataset/pkls/test/non_faces_features.pkl')\n",
    "utils.save_pickle(train_faces_features, './dataset/pkls/train/faces_features.pkl')\n",
    "utils.save_pickle(train_non_faces_features, './dataset/pkls/train/non_faces_features.pkl')"
   ]
  },
  {
   "cell_type": "code",
   "execution_count": 28,
   "metadata": {},
   "outputs": [],
   "source": [
    "train_faces_pk = utils.load_pickle('./dataset/pkls/train/faces_features.pkl')\n",
    "train_non_faces_pk = utils.load_pickle('./dataset/pkls/train/non_faces_features.pkl')\n",
    "test_faces_pk = utils.load_pickle('./dataset/pkls/test/faces_features.pkl')\n",
    "test_non_faces_pk = utils.load_pickle('./dataset/pkls/test/non_faces_features.pkl')"
   ]
  },
  {
   "cell_type": "code",
   "execution_count": 29,
   "metadata": {},
   "outputs": [
    {
     "name": "stdout",
     "output_type": "stream",
     "text": [
      "n_train_faces:  (2429, 6066)\n",
      "n_train_non_faces:  (4548, 6066)\n",
      "n_test_faces:  (472, 6066)\n",
      "n_test_non_faces:  (23573, 6066)\n"
     ]
    }
   ],
   "source": [
    "print('n_train_faces: ', train_faces_pk.shape)\n",
    "print('n_train_non_faces: ', train_non_faces_pk.shape)\n",
    "print('n_test_faces: ', test_faces_pk.shape)\n",
    "print('n_test_non_faces: ',  test_non_faces_pk.shape)\n"
   ]
  },
  {
   "cell_type": "code",
   "execution_count": 33,
   "metadata": {},
   "outputs": [
    {
     "name": "stdout",
     "output_type": "stream",
     "text": [
      "Validation Set (698, 6066)\n",
      "Training Set (6279, 6066)\n",
      "Testing Set (24045, 6066)\n"
     ]
    }
   ],
   "source": [
    "P_train, P_val, N_train, N_val = utils.split_data(train_faces_pk, train_non_faces_pk, 0.1)\n",
    "X_train, y_train = utils.merge_P_N(P_train, N_train)\n",
    "X_val, y_val = utils.merge_P_N(P_val, N_val)\n",
    "X_test, y_test = utils.merge_P_N(test_faces_pk, test_non_faces_pk)\n",
    "\n",
    "print(\"Validation Set\", X_val.shape)\n",
    "print(\"Training Set\", X_train.shape)\n",
    "print(\"Testing Set\", X_test.shape)"
   ]
  },
  {
   "cell_type": "code",
   "execution_count": 34,
   "metadata": {},
   "outputs": [],
   "source": [
    "utils.save_pickle((X_train, y_train), './dataset/train_dataset.pkl')\n",
    "utils.save_pickle((X_val, y_val), './dataset/val_dataset.pkl')\n",
    "utils.save_pickle((X_test, y_test), './dataset/test_dataset.pkl')"
   ]
  },
  {
   "cell_type": "markdown",
   "metadata": {},
   "source": []
  },
  {
   "cell_type": "code",
   "execution_count": 90,
   "metadata": {},
   "outputs": [],
   "source": [
    "for i, face in enumerate(faces): \n",
    "    face_feature = haar.extract_features(face, 0, 0, image_width, image_height).reshape(1, -1)\n",
    "    faces_features[i] = face_feature"
   ]
  },
  {
   "cell_type": "code",
   "execution_count": 91,
   "metadata": {},
   "outputs": [],
   "source": [
    "for i, non_face in enumerate(non_faces): \n",
    "    non_face_feature = haar.extract_features(non_face, 0, 0, image_width, image_height).reshape(1, -1)\n",
    "    non_faces_fetures[i] = non_face_feature"
   ]
  },
  {
   "cell_type": "code",
   "execution_count": 100,
   "metadata": {},
   "outputs": [],
   "source": [
    "faces_features = faces_features.astype(np.int64)\n",
    "non_faces_fetures = faces_features.astype(np.int64)"
   ]
  },
  {
   "cell_type": "code",
   "execution_count": 101,
   "metadata": {},
   "outputs": [],
   "source": [
    "with open('./dataset/faces_features.pkl', 'wb') as file:\n",
    "    pickle.dump(faces_features, file)\n",
    "\n",
    "with open('./dataset/non_faces_features.pkl', 'wb') as file:\n",
    "    pickle.dump(non_faces_fetures, file)"
   ]
  },
  {
   "cell_type": "code",
   "execution_count": null,
   "metadata": {},
   "outputs": [],
   "source": []
  },
  {
   "cell_type": "code",
   "execution_count": null,
   "metadata": {},
   "outputs": [],
   "source": []
  },
  {
   "cell_type": "code",
   "execution_count": null,
   "metadata": {},
   "outputs": [],
   "source": []
  },
  {
   "cell_type": "code",
   "execution_count": null,
   "metadata": {},
   "outputs": [],
   "source": []
  },
  {
   "cell_type": "code",
   "execution_count": null,
   "metadata": {},
   "outputs": [],
   "source": []
  },
  {
   "cell_type": "code",
   "execution_count": null,
   "metadata": {},
   "outputs": [],
   "source": []
  },
  {
   "cell_type": "code",
   "execution_count": null,
   "metadata": {},
   "outputs": [],
   "source": []
  },
  {
   "cell_type": "code",
   "execution_count": null,
   "metadata": {},
   "outputs": [],
   "source": []
  },
  {
   "cell_type": "code",
   "execution_count": null,
   "metadata": {},
   "outputs": [],
   "source": []
  }
 ],
 "metadata": {
  "kernelspec": {
   "display_name": "Python 3",
   "language": "python",
   "name": "python3"
  },
  "language_info": {
   "codemirror_mode": {
    "name": "ipython",
    "version": 3
   },
   "file_extension": ".py",
   "mimetype": "text/x-python",
   "name": "python",
   "nbconvert_exporter": "python",
   "pygments_lexer": "ipython3",
   "version": "3.12.0"
  }
 },
 "nbformat": 4,
 "nbformat_minor": 2
}
