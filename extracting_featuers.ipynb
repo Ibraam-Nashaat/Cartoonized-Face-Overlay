{
 "cells": [
  {
   "cell_type": "code",
   "execution_count": 1,
   "metadata": {},
   "outputs": [],
   "source": [
    "import cv2\n",
    "from skimage import io\n",
    "import os\n",
    "import matplotlib.pyplot as plt\n",
    "import numpy as np\n",
    "import pandas as pd\n",
    "import seaborn as sns\n",
    "import math\n",
    "import sys\n",
    "import pickle\n",
    "import random\n",
    "from haar_like_features import *\n",
    "from utils import *\n",
    "%matplotlib inline\n",
    "%load_ext autoreload\n",
    "%autoreload 2"
   ]
  },
  {
   "cell_type": "code",
   "execution_count": 4,
   "metadata": {},
   "outputs": [],
   "source": [
    "haar = HaarLikeFeatures()\n",
    "utils = Utils()\n",
    "train_faces = utils.load_pickle('./dataset/pkls/train/faces.pkl')\n",
    "test_faces = utils.load_pickle('./dataset/pkls/test/faces.pkl')\n",
    "train_non_faces = utils.load_pickle('./dataset/pkls/train/non_faces.pkl')\n",
    "test_non_faces = utils.load_pickle('./dataset/pkls/test/non_faces.pkl')"
   ]
  },
  {
   "cell_type": "code",
   "execution_count": null,
   "metadata": {},
   "outputs": [],
   "source": []
  },
  {
   "cell_type": "code",
   "execution_count": 5,
   "metadata": {},
   "outputs": [
    {
     "name": "stdout",
     "output_type": "stream",
     "text": [
      "n_train_faces:  2429\n",
      "n_train_non_faces:  4548\n",
      "n_test_faces:  472\n",
      "n_test_non_faces:  23573\n",
      "total train set:  6977\n",
      "total test set:  24045\n",
      "Image width:  19\n",
      "Image height:  19\n",
      "Number of features per image:  6066\n"
     ]
    }
   ],
   "source": [
    "n_train_faces = train_faces.shape[0]\n",
    "n_train_non_faces = train_non_faces.shape[0]\n",
    "n_test_faces = test_faces.shape[0]\n",
    "n_test_non_faces = test_non_faces.shape[0]\n",
    "\n",
    "n_train = n_train_faces + n_train_non_faces\n",
    "n_test = n_test_faces + n_test_non_faces\n",
    "print('n_train_faces: ', n_train_faces)\n",
    "print('n_train_non_faces: ', n_train_non_faces)\n",
    "print('n_test_faces: ', n_test_faces)\n",
    "print('n_test_non_faces: ', n_test_non_faces)\n",
    "print('total train set: ', n_train)\n",
    "print('total test set: ', n_test)\n",
    "\n",
    "image_width = train_faces.shape[1]\n",
    "image_height = train_faces.shape[2]   \n",
    "num_features_per_img = 6066\n",
    "print('Image width: ', image_width)\n",
    "print('Image height: ', image_height)\n",
    "print('Number of features per image: ', num_features_per_img)"
   ]
  },
  {
   "cell_type": "code",
   "execution_count": 15,
   "metadata": {},
   "outputs": [
    {
     "data": {
      "text/plain": [
       "2947"
      ]
     },
     "execution_count": 15,
     "metadata": {},
     "output_type": "execute_result"
    }
   ],
   "source": [
    "len(np.array_split(test_non_faces, 8))"
   ]
  },
  {
   "cell_type": "code",
   "execution_count": 22,
   "metadata": {},
   "outputs": [
    {
     "name": "stdout",
     "output_type": "stream",
     "text": [
      "Start parallel processing\n",
      "Parallel processing finished in 10.471681594848633 seconds\n"
     ]
    }
   ],
   "source": [
    "test_faces_features = utils.apply_func_parallel_nump_array(haar.extract_features, test_faces, 8, 0, 0, image_width, image_height)"
   ]
  },
  {
   "cell_type": "code",
   "execution_count": 24,
   "metadata": {},
   "outputs": [
    {
     "name": "stdout",
     "output_type": "stream",
     "text": [
      "Start parallel processing\n",
      "Parallel processing finished in 70.80931758880615 seconds\n"
     ]
    }
   ],
   "source": [
    "train_faces_features = utils.apply_func_parallel_nump_array(haar.extract_features, train_faces, 30, 0, 0, image_width, image_height)"
   ]
  },
  {
   "cell_type": "code",
   "execution_count": 25,
   "metadata": {},
   "outputs": [
    {
     "name": "stdout",
     "output_type": "stream",
     "text": [
      "Start parallel processing\n",
      "Parallel processing finished in 557.4290289878845 seconds\n"
     ]
    }
   ],
   "source": [
    "test_non_faces_features = utils.apply_func_parallel_nump_array(haar.extract_features, test_non_faces, 30, 0, 0, image_width, image_height)"
   ]
  },
  {
   "cell_type": "code",
   "execution_count": 26,
   "metadata": {},
   "outputs": [],
   "source": [
    "utils.save_pickle(test_faces_features, './dataset/pkls/test/test_faces_features.pkl')\n",
    "utils.save_pickle(test_faces_features, './dataset/pkls/test/test_non_faces_features.pkl')"
   ]
  },
  {
   "cell_type": "code",
   "execution_count": 28,
   "metadata": {},
   "outputs": [
    {
     "name": "stdout",
     "output_type": "stream",
     "text": [
      "test_faces_features:  (472, 6066)\n",
      "test_non_faces_features:  (23573, 6066)\n"
     ]
    }
   ],
   "source": [
    "print('test_faces_features: ', test_faces_features.shape)\n",
    "print('test_non_faces_features: ', test_non_faces_features.shape)"
   ]
  },
  {
   "cell_type": "code",
   "execution_count": 89,
   "metadata": {},
   "outputs": [],
   "source": [
    "faces_features = np.zeros((n_faces, num_features_per_img))\n",
    "non_faces_fetures = np.zeros((n_non_faces, num_features_per_img))\n"
   ]
  },
  {
   "cell_type": "markdown",
   "metadata": {},
   "source": []
  },
  {
   "cell_type": "code",
   "execution_count": 90,
   "metadata": {},
   "outputs": [],
   "source": [
    "for i, face in enumerate(faces): \n",
    "    face_feature = haar.extract_features(face, 0, 0, image_width, image_height).reshape(1, -1)\n",
    "    faces_features[i] = face_feature"
   ]
  },
  {
   "cell_type": "code",
   "execution_count": 91,
   "metadata": {},
   "outputs": [],
   "source": [
    "for i, non_face in enumerate(non_faces): \n",
    "    non_face_feature = haar.extract_features(non_face, 0, 0, image_width, image_height).reshape(1, -1)\n",
    "    non_faces_fetures[i] = non_face_feature"
   ]
  },
  {
   "cell_type": "code",
   "execution_count": 100,
   "metadata": {},
   "outputs": [],
   "source": [
    "faces_features = faces_features.astype(np.int64)\n",
    "non_faces_fetures = faces_features.astype(np.int64)"
   ]
  },
  {
   "cell_type": "code",
   "execution_count": 101,
   "metadata": {},
   "outputs": [],
   "source": [
    "with open('./dataset/faces_features.pkl', 'wb') as file:\n",
    "    pickle.dump(faces_features, file)\n",
    "\n",
    "with open('./dataset/non_faces_features.pkl', 'wb') as file:\n",
    "    pickle.dump(non_faces_fetures, file)"
   ]
  },
  {
   "cell_type": "code",
   "execution_count": null,
   "metadata": {},
   "outputs": [],
   "source": []
  },
  {
   "cell_type": "code",
   "execution_count": null,
   "metadata": {},
   "outputs": [],
   "source": []
  },
  {
   "cell_type": "code",
   "execution_count": null,
   "metadata": {},
   "outputs": [],
   "source": []
  },
  {
   "cell_type": "code",
   "execution_count": null,
   "metadata": {},
   "outputs": [],
   "source": []
  },
  {
   "cell_type": "code",
   "execution_count": null,
   "metadata": {},
   "outputs": [],
   "source": []
  },
  {
   "cell_type": "code",
   "execution_count": null,
   "metadata": {},
   "outputs": [],
   "source": []
  },
  {
   "cell_type": "code",
   "execution_count": null,
   "metadata": {},
   "outputs": [],
   "source": []
  },
  {
   "cell_type": "code",
   "execution_count": null,
   "metadata": {},
   "outputs": [],
   "source": []
  },
  {
   "cell_type": "code",
   "execution_count": null,
   "metadata": {},
   "outputs": [],
   "source": []
  }
 ],
 "metadata": {
  "kernelspec": {
   "display_name": "Python 3",
   "language": "python",
   "name": "python3"
  },
  "language_info": {
   "codemirror_mode": {
    "name": "ipython",
    "version": 3
   },
   "file_extension": ".py",
   "mimetype": "text/x-python",
   "name": "python",
   "nbconvert_exporter": "python",
   "pygments_lexer": "ipython3",
   "version": "3.12.0"
  }
 },
 "nbformat": 4,
 "nbformat_minor": 2
}
