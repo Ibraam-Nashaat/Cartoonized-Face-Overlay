{
 "cells": [
  {
   "cell_type": "code",
   "execution_count": 12,
   "metadata": {},
   "outputs": [],
   "source": [
    "import numpy as np \n",
    "from utils import *\n",
    "from haar_like_features import *\n",
    "from sklearn.model_selection import train_test_split\n",
    "from sklearn.metrics import accuracy_score, confusion_matrix, roc_curve\n",
    "from skimage import io\n",
    "from skimage.color import rgb2gray\n",
    "from skimage.transform import resize\n",
    "import matplotlib.pyplot as plt\n",
    "import pickle\n",
    "import os\n",
    "import time\n",
    "import cv2\n",
    "\n",
    "utils = Utils()\n",
    "haar = HaarLikeFeatures()\n",
    "\n",
    "%matplotlib inline\n",
    "%reload_ext autoreload\n",
    "%autoreload 2"
   ]
  },
  {
   "cell_type": "markdown",
   "metadata": {},
   "source": [
    "## Extract Labels\n"
   ]
  },
  {
   "cell_type": "code",
   "execution_count": 13,
   "metadata": {},
   "outputs": [],
   "source": [
    "features_values = haar.extract_features_as_labels(0, 0, 19, 19)\n",
    "utils.save_pickle(features_values, 'features_values.pkl')"
   ]
  },
  {
   "cell_type": "code",
   "execution_count": 15,
   "metadata": {},
   "outputs": [
    {
     "data": {
      "text/plain": [
       "(5,)"
      ]
     },
     "execution_count": 15,
     "metadata": {},
     "output_type": "execute_result"
    }
   ],
   "source": [
    "features_values[0].shape"
   ]
  },
  {
   "cell_type": "markdown",
   "metadata": {},
   "source": [
    "## Prepare Data\n"
   ]
  },
  {
   "cell_type": "code",
   "execution_count": null,
   "metadata": {},
   "outputs": [],
   "source": []
  },
  {
   "cell_type": "code",
   "execution_count": null,
   "metadata": {},
   "outputs": [],
   "source": [
    "\n"
   ]
  },
  {
   "cell_type": "markdown",
   "metadata": {},
   "source": [
    "## Weak Classifier\n"
   ]
  },
  {
   "cell_type": "code",
   "execution_count": null,
   "metadata": {},
   "outputs": [],
   "source": [
    "class WeakClassifier:\n",
    "    \"\"\"\n",
    "    theta: threshold\n",
    "    feature: feature value\n",
    "            numpy array of shape (5, )\n",
    "    polarity: polarity\n",
    "\n",
    "    \"\"\"\n",
    "    def __init__(self, feature_label, feature, theta, polarity):\n",
    "        self.feature_label = feature_label\n",
    "        self.feature = feature\n",
    "        self.theta = theta\n",
    "        self.polarity = polarity\n",
    "        self.haar = HaarLikeFeatures()\n",
    "\n",
    "    def predict_using_intgeral_images(self, X):\n",
    "        \"\"\"\n",
    "        X: input of integral images\n",
    "           numpy array of shape (N, 19, 19)\n",
    "        \"\"\"\n",
    "        features = [self.haar.get_feautures_result(i, [self.feature])[0] for i in X] \n",
    "        y_pred = np.zeros((X.shape[0], 1))\n",
    "        y_pred[self.polarity * features < self.polarity * self.theta] = 1\n",
    "        return y_pred\n",
    "    \n",
    "    def pred_using_values(self, X):\n",
    "        \"\"\"\n",
    "        X: input of features\n",
    "           numpy array of shape (N, 5)\n",
    "        \"\"\"\n",
    "        y_pred = np.zeros((X.shape[0], 1))\n",
    "        y_pred[self.polarity * X < self.polarity * self.theta] = 1\n",
    "        return y_pred\n",
    "    \n",
    "    def __str__(self):\n",
    "        return f'WeakClassifier(p={self.p}, theta={self.theta}, polarity={self.polarity})'"
   ]
  },
  {
   "cell_type": "code",
   "execution_count": null,
   "metadata": {},
   "outputs": [],
   "source": [
    "class viola_jones_classifier:\n",
    "    def train(self, X, y):\n",
    "        # ============= initalizing training ==============\"\n",
    "        P = X[y == 1]\n",
    "        N = X[y == 0]\n",
    "        self.w = np.ones_like(y)\n",
    "\n",
    "        wn = 1 / (2*len(N))\n",
    "        wp = 1 / (2*len(P))\n",
    "        self.w[y == 1] = wp\n",
    "        self.w[y == 0] = wn\n",
    "        # ============= initalizing training ==============\"\n",
    "\n",
    "        # ============= start training ==============\"\n",
    "        for t in range(self.T):\n",
    "\n",
    "            print(\" Training Weak Classifier: \", t)\n",
    "            self.w = self.w / np.sum(self.w)\n",
    "            total_positive = np.sum(self.w[y == 1])\n",
    "            total_negative = np.sum(self.w[y == 0])\n",
    "\n",
    "            weak_clf = []\n",
    "            for i, features in enumerate(X):\n",
    "                sorted_features = np.argsort(features)\n"
   ]
  }
 ],
 "metadata": {
  "kernelspec": {
   "display_name": "Python 3",
   "language": "python",
   "name": "python3"
  },
  "language_info": {
   "codemirror_mode": {
    "name": "ipython",
    "version": 3
   },
   "file_extension": ".py",
   "mimetype": "text/x-python",
   "name": "python",
   "nbconvert_exporter": "python",
   "pygments_lexer": "ipython3",
   "version": "3.12.0"
  }
 },
 "nbformat": 4,
 "nbformat_minor": 2
}
