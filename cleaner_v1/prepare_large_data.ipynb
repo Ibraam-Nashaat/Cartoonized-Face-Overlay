{
 "cells": [
  {
   "cell_type": "markdown",
   "metadata": {},
   "source": [
    "## Merging Data, Select percent of features\n"
   ]
  },
  {
   "cell_type": "code",
   "execution_count": 1,
   "metadata": {},
   "outputs": [],
   "source": [
    "import numpy as np \n",
    "from utils import *\n",
    "from haar_like_features import *\n",
    "from sklearn.model_selection import train_test_split\n",
    "from sklearn.metrics import accuracy_score, confusion_matrix, roc_curve\n",
    "from skimage import io\n",
    "from skimage.color import rgb2gray\n",
    "from skimage.transform import resize\n",
    "import matplotlib.pyplot as plt\n",
    "from sklearn.feature_selection import SelectPercentile, f_classif\n",
    "import pickle\n",
    "import os\n",
    "import time\n",
    "import cv2\n",
    "\n",
    "utils = Utils()\n",
    "haar = HaarLikeFeatures()\n",
    "\n",
    "%matplotlib inline\n",
    "%reload_ext autoreload\n",
    "%autoreload 2"
   ]
  },
  {
   "cell_type": "markdown",
   "metadata": {},
   "source": [
    "## Merging Training Data\n"
   ]
  },
  {
   "cell_type": "code",
   "execution_count": 2,
   "metadata": {},
   "outputs": [],
   "source": [
    "train_faces = utils.load_pickle('../dataset/featuresV2/faces_features1.pkl')\n",
    "train_faces_1 = utils.load_pickle('../dataset/featuresV2/faces_features2.pkl')\n",
    "\n",
    "train_non_faces = utils.load_pickle('../dataset/featuresV2/non_faces_features1.pkl')\n",
    "train_non_faces_1 = utils.load_pickle('../dataset/featuresV2/non_faces_features2.pkl')\n",
    "train_non_faces_2 = utils.load_pickle('../dataset/featuresV2/non_faces_features3.  pkl')"
   ]
  },
  {
   "cell_type": "code",
   "execution_count": 3,
   "metadata": {},
   "outputs": [
    {
     "name": "stdout",
     "output_type": "stream",
     "text": [
      "===== Numbers =====\n",
      "Train faces:  (2429, 6066)\n",
      "Train faces 1:  (13233, 6066)\n",
      "Train non faces:  (9096, 6066)\n",
      "Train non faces 1:  (2860, 6066)\n",
      "Train non faces 2:  (3008, 6066)\n"
     ]
    }
   ],
   "source": [
    "print(\"===== Numbers =====\")\n",
    "print(\"Train faces: \", train_faces.shape)\n",
    "print(\"Train faces 1: \", train_faces_1.shape)\n",
    "print(\"Train non faces: \", train_non_faces.shape)\n",
    "print(\"Train non faces 1: \", train_non_faces_1.shape)\n",
    "print(\"Train non faces 2: \", train_non_faces_2.shape)"
   ]
  },
  {
   "cell_type": "code",
   "execution_count": 4,
   "metadata": {},
   "outputs": [
    {
     "name": "stdout",
     "output_type": "stream",
     "text": [
      "Faces:  15662\n",
      "Non Faces:  14964\n"
     ]
    }
   ],
   "source": [
    "print(\"Faces: \", train_faces.shape[0] + train_faces_1.shape[0] )\n",
    "print(\"Non Faces: \", train_non_faces.shape[0] + train_non_faces_1.shape[0] + train_non_faces_2.shape[0] )"
   ]
  },
  {
   "cell_type": "code",
   "execution_count": 5,
   "metadata": {},
   "outputs": [
    {
     "data": {
      "text/plain": [
       "(15662, 6066)"
      ]
     },
     "execution_count": 5,
     "metadata": {},
     "output_type": "execute_result"
    }
   ],
   "source": [
    "Faces = np.concatenate((train_faces, train_faces_1), axis=0)\n",
    "Faces.shape"
   ]
  },
  {
   "cell_type": "code",
   "execution_count": 6,
   "metadata": {},
   "outputs": [
    {
     "data": {
      "text/plain": [
       "(14964, 6066)"
      ]
     },
     "execution_count": 6,
     "metadata": {},
     "output_type": "execute_result"
    }
   ],
   "source": [
    "NonFaces = np.concatenate((train_non_faces, train_non_faces_1, train_non_faces_2), axis=0)\n",
    "NonFaces.shape"
   ]
  },
  {
   "cell_type": "code",
   "execution_count": 7,
   "metadata": {},
   "outputs": [],
   "source": [
    "utils.save_pickle(Faces, '../dataset/pkls/train_faces_lg.pkl')\n",
    "utils.save_pickle(NonFaces, '../dataset/pkls/train_non_faces_lg.pkl')"
   ]
  },
  {
   "cell_type": "code",
   "execution_count": 8,
   "metadata": {},
   "outputs": [
    {
     "name": "stdout",
     "output_type": "stream",
     "text": [
      "X:  (30626, 6066)\n",
      "y:  (30626,)\n"
     ]
    }
   ],
   "source": [
    "X = np.concatenate((Faces, NonFaces), axis=0)\n",
    "y = np.concatenate((np.ones(Faces.shape[0]), np.zeros(NonFaces.shape[0])), axis=0)\n",
    "print(\"X: \", X.shape)\n",
    "print(\"y: \", y.shape)"
   ]
  },
  {
   "cell_type": "code",
   "execution_count": 9,
   "metadata": {},
   "outputs": [],
   "source": [
    "utils.save_pickle((X, y), '../dataset/pkls/train_lg.pkl')"
   ]
  },
  {
   "cell_type": "markdown",
   "metadata": {},
   "source": [
    "## Select Best 10% feature represet Dataset\n"
   ]
  },
  {
   "cell_type": "markdown",
   "metadata": {},
   "source": [
    "**to fast training**\n",
    "most of (6066) features don't have mearning so we need only 10%\n"
   ]
  },
  {
   "cell_type": "markdown",
   "metadata": {},
   "source": [
    "f_classif compute ANOVA F-value\n"
   ]
  },
  {
   "cell_type": "code",
   "execution_count": 14,
   "metadata": {},
   "outputs": [],
   "source": [
    "selector = SelectPercentile(f_classif, percentile=10)\n",
    "X_new = selector.fit_transform(X, y)"
   ]
  },
  {
   "cell_type": "code",
   "execution_count": 15,
   "metadata": {},
   "outputs": [
    {
     "data": {
      "text/plain": [
       "array([99, 100, 101, 107, 108, 109, 110, 346, 347, 348, 349, 352, 353,\n",
       "       354, 355, 356, 366, 408, 409, 416, 417, 418, 419, 420, 421, 425,\n",
       "       426, 427, 428, 429, 430, 434, 435, 436, 437, 444, 445, 446, 447,\n",
       "       634, 635, 636, 675, 676, 677, 682, 683, 684, 685, 686, 687, 691,\n",
       "       692, 693, 694, 695, 696, 699, 700, 701, 702, 703, 704, 708, 709,\n",
       "       710, 711, 712, 713, 901, 902, 903, 904, 905, 909, 910, 911, 912,\n",
       "       913, 914, 915, 917, 918, 919, 920, 921, 926, 927, 928, 929, 930,\n",
       "       934, 935, 1076, 1077, 1078, 1079, 1085, 1086, 1087, 1088, 1089,\n",
       "       1091, 1092, 1093, 1094, 1100, 1101, 1102, 1103, 1104, 1107, 1108,\n",
       "       1225, 1226, 1235, 1236, 1552, 1866, 1869, 1882, 1885, 2136, 2137,\n",
       "       2147, 2150, 2151, 3025, 3044, 3045, 3057, 3062, 3063, 3064, 3068,\n",
       "       3069, 3070, 3071, 3075, 3076, 3077, 3078, 3081, 3082, 3083, 3084,\n",
       "       3085, 3086, 3087, 3088, 3089, 3090, 3094, 3095, 3096, 3097, 3098,\n",
       "       3101, 3105, 3106, 3107, 3108, 3109, 3113, 3114, 3115, 3116, 3117,\n",
       "       3123, 3124, 3125, 3126, 3127, 3128, 3132, 3133, 3134, 3135, 3143,\n",
       "       3144, 3145, 3146, 3152, 3165, 3271, 3272, 3273, 3286, 3287, 3288,\n",
       "       3289, 3290, 3291, 3292, 3293, 3295, 3296, 3297, 3301, 3302, 3307,\n",
       "       3308, 3314, 3315, 3401, 3402, 3404, 3405, 3409, 3410, 3411, 3412,\n",
       "       3413, 3414, 3415, 3416, 3417, 3418, 3419, 3420, 3421, 3422, 3423,\n",
       "       3427, 3428, 3429, 3434, 3439, 3440, 3441, 3445, 3446, 3457, 3458,\n",
       "       3459, 3464, 3465, 3474, 3475, 3476, 3483, 3484, 3485, 3490, 3491,\n",
       "       3492, 3515, 3516, 3517, 3518, 3519, 3520, 3521, 3522, 3523, 3524,\n",
       "       3525, 3526, 3527, 3528, 3529, 3530, 3531, 3533, 3534, 3535, 3536,\n",
       "       3537, 3538, 3539, 3540, 3541, 3542, 3543, 3544, 3545, 3546, 3547,\n",
       "       3548, 3635, 3636, 3637, 3641, 3642, 3643, 3644, 3647, 3648, 3649,\n",
       "       3650, 3652, 3653, 3654, 3655, 3659, 3660, 3661, 3663, 3664, 3665,\n",
       "       3666, 3667, 3669, 3670, 3671, 3672, 3673, 3679, 3680, 3681, 3682,\n",
       "       3683, 3687, 3688, 3689, 3690, 3691, 3695, 3696, 3697, 3698, 3699,\n",
       "       3700, 3702, 3703, 3704, 3705, 3706, 3707, 3713, 3714, 3715, 3716,\n",
       "       3717, 3804, 3805, 3806, 3807, 3808, 3810, 3811, 3812, 3813, 3814,\n",
       "       3815, 3816, 3817, 3818, 3819, 3820, 3821, 3822, 3823, 3824, 3825,\n",
       "       3826, 3827, 3828, 3829, 3936, 3937, 3938, 3939, 3940, 3941, 3942,\n",
       "       3943, 3944, 3945, 3946, 4042, 4045, 4053, 4054, 4055, 4056, 4057,\n",
       "       4058, 4059, 4060, 4061, 4062, 4063, 4064, 4065, 4066, 4067, 4068,\n",
       "       4069, 4070, 4071, 4072, 4073, 4074, 4075, 4076, 4077, 4078, 4079,\n",
       "       4080, 4081, 4082, 4083, 4084, 4085, 4086, 4087, 4088, 4089, 4090,\n",
       "       4091, 4092, 4093, 4094, 4095, 4096, 4097, 4098, 4099, 4100, 4101,\n",
       "       4102, 4104, 4105, 4106, 4107, 4115, 4116, 4117, 4118, 4119, 4122,\n",
       "       4123, 4133, 4134, 4249, 4250, 4335, 4343, 4344, 4345, 4348, 4349,\n",
       "       4350, 4351, 4352, 4355, 4356, 4357, 4358, 4359, 4360, 4362, 4363,\n",
       "       4364, 4365, 4366, 4367, 4369, 4370, 4371, 4372, 4373, 4374, 4376,\n",
       "       4377, 4378, 4379, 4380, 4381, 4385, 4386, 4387, 4390, 4391, 4392,\n",
       "       4393, 4499, 4500, 4501, 4561, 4564, 4565, 4571, 4572, 4573, 4575,\n",
       "       4576, 4577, 4581, 4582, 4583, 4584, 4586, 4587, 4588, 4589, 4591,\n",
       "       4592, 4593, 4594, 4595, 4597, 4598, 4599, 4600, 4601, 4602, 4603,\n",
       "       4604, 4605, 4609, 4610, 4611, 4612, 4613, 4614, 4615, 4622, 4623,\n",
       "       4624, 4625, 4688, 4689, 4719, 4727, 4734, 4735, 4736, 4741, 4742,\n",
       "       4743, 4744, 4745, 4746, 4748, 4749, 4750, 4751, 4752, 4753, 4754,\n",
       "       4755, 4756, 4757, 4758, 4760, 4761, 4762, 4763, 4764, 4765, 4766,\n",
       "       4768, 4769, 4770, 4771, 4772, 4773, 4777, 4778, 4779, 4780, 4848,\n",
       "       4853, 4854, 4855, 4856, 4857, 4858, 4859, 4860, 4861, 4862, 4863,\n",
       "       4864, 4865, 4866, 4867, 4868, 4869, 4870, 4871, 4872, 4874, 4875,\n",
       "       4876, 4877, 4879, 4880, 4881, 4908, 4909, 4910, 4911, 4912, 4913,\n",
       "       4914, 4915, 4916, 4917, 4918, 4919, 4920, 4921, 5548, 5562],\n",
       "      dtype=object)"
      ]
     },
     "execution_count": 15,
     "metadata": {},
     "output_type": "execute_result"
    }
   ],
   "source": [
    "features_index = selector.get_feature_names_out(np.arange(0, 6066))\n",
    "features_index"
   ]
  },
  {
   "cell_type": "code",
   "execution_count": null,
   "metadata": {},
   "outputs": [],
   "source": []
  },
  {
   "cell_type": "code",
   "execution_count": 16,
   "metadata": {},
   "outputs": [],
   "source": [
    "utils.save_pickle((X_new, y), '../dataset/train_lg_percentile.pkl')"
   ]
  },
  {
   "cell_type": "code",
   "execution_count": 13,
   "metadata": {},
   "outputs": [],
   "source": [
    "utils.save_pickle(features_index, '../dataset/feat_index_lg_percentile.pkl')"
   ]
  },
  {
   "cell_type": "markdown",
   "metadata": {},
   "source": [
    "## Getting Feature Values\n"
   ]
  },
  {
   "cell_type": "code",
   "execution_count": 17,
   "metadata": {},
   "outputs": [],
   "source": [
    "features_values = haar.extract_features_as_labels(0, 0, 19, 19)"
   ]
  },
  {
   "cell_type": "code",
   "execution_count": 18,
   "metadata": {},
   "outputs": [],
   "source": [
    "utils.save_pickle(features_values, '../dataset/features_values.pkl')"
   ]
  },
  {
   "cell_type": "code",
   "execution_count": 19,
   "metadata": {},
   "outputs": [
    {
     "data": {
      "text/plain": [
       "array([[ 0.,  5.,  4.,  2.,  1.],\n",
       "       [ 0.,  5.,  5.,  2.,  1.],\n",
       "       [ 0.,  5.,  6.,  2.,  1.],\n",
       "       ...,\n",
       "       [ 3., 11.,  1.,  6., 18.],\n",
       "       [ 4.,  3.,  0.,  6.,  6.],\n",
       "       [ 4.,  4.,  0.,  6.,  6.]])"
      ]
     },
     "execution_count": 19,
     "metadata": {},
     "output_type": "execute_result"
    }
   ],
   "source": [
    "features_values_selected = features_values[features_index.astype(int)]\n",
    "features_values_selected"
   ]
  },
  {
   "cell_type": "code",
   "execution_count": 20,
   "metadata": {},
   "outputs": [],
   "source": [
    "utils.save_pickle(features_values, '../dataset/features_values_selected.pkl')\n"
   ]
  },
  {
   "cell_type": "code",
   "execution_count": 21,
   "metadata": {},
   "outputs": [
    {
     "data": {
      "text/plain": [
       "(607,)"
      ]
     },
     "execution_count": 21,
     "metadata": {},
     "output_type": "execute_result"
    }
   ],
   "source": [
    "features_index.shape"
   ]
  },
  {
   "cell_type": "code",
   "execution_count": null,
   "metadata": {},
   "outputs": [],
   "source": []
  },
  {
   "cell_type": "code",
   "execution_count": null,
   "metadata": {},
   "outputs": [],
   "source": []
  }
 ],
 "metadata": {
  "kernelspec": {
   "display_name": "Python 3",
   "language": "python",
   "name": "python3"
  },
  "language_info": {
   "codemirror_mode": {
    "name": "ipython",
    "version": 3
   },
   "file_extension": ".py",
   "mimetype": "text/x-python",
   "name": "python",
   "nbconvert_exporter": "python",
   "pygments_lexer": "ipython3",
   "version": "3.12.0"
  }
 },
 "nbformat": 4,
 "nbformat_minor": 2
}
